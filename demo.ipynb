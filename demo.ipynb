{
 "cells": [
  {
   "cell_type": "markdown",
   "id": "f507fe3a",
   "metadata": {
    "slideshow": {
     "slide_type": "slide"
    }
   },
   "source": [
    "# 1. Overview of computational software environments\n",
    "\n",
    "| Environment | Since | PYPL [%] |\n",
    "|-------------|-------|----------|\n",
    "| FORTRAN     | 1957  | --.--    |\n",
    "| Matlab      | ~1970 | 1.61     |\n",
    "| C++         | 1985  | 6.64     |\n",
    "| Python      | 1991  | 28.34    |\n",
    "| R           | 1993  | 3.98     |\n",
    "| Julia       | 2012  | 0.24     |\n",
    "\n",
    "Taken from [PopularitY of Programming Language (PYPL)](https://pypl.github.io/PYPL.html) on Dec 2, 2022.\n",
    "(Not specific for computational science & engineering.)"
   ]
  },
  {
   "cell_type": "markdown",
   "id": "fb1ed211",
   "metadata": {
    "slideshow": {
     "slide_type": "slide"
    }
   },
   "source": [
    "### Questionaire in Physics and Astronomy (2019)\n",
    "\n",
    "<img src=\"importance_sub_prog.png\" width=900 />"
   ]
  },
  {
   "cell_type": "markdown",
   "id": "f4d24778",
   "metadata": {
    "slideshow": {
     "slide_type": "slide"
    }
   },
   "source": [
    "### Compiled languages (FORTRAN, C++, C, ...)\n",
    "\n",
    "- **Efficient** computation\n",
    "\n",
    "### Interpreted languages (Python, Matlab, R, ...)\n",
    "\n",
    "- **Slower execution**, yet easily circumvented\n",
    "- **Rapid** development: write code and execute\n",
    "- Cross-platform: Python on [iOS](https://apps.apple.com/us/app/carnets-jupyter-with-scipy/id1559497253), [Android](https://play.google.com/store/apps/details?id=ru.iiec.pydroid3&pli=1), [Windows/macOS/Linux/...](https://docs.jupyter.org/en/latest/install/notebook-classic.html#installing-jupyter-using-anaconda-and-conda), [Google Colab](https://colab.research.google.com), [VSC Supercomputers](https://www.ugent.be/hpc/en/access/policy/access#Students)"
   ]
  },
  {
   "cell_type": "markdown",
   "id": "02462328",
   "metadata": {
    "slideshow": {
     "slide_type": "slide"
    }
   },
   "source": [
    "### Why is Python popular?\n",
    "\n",
    "1. **Easy** to learn\n",
    "1. **Open source** (free): transparency and reproducibility\n",
    "1. Many **libraries** (e.g. computational sciences)\n",
    "1. **Mature** en general purpose\n",
    "\n",
    "### Why is Matlab (less) popular?\n",
    "\n",
    "1. **Early** in the game (1970)\n",
    "1. **Vendor lock-in**: some software only works with Matlab\n",
    "1. **Specialized** toolboxes\n",
    "1. **Mature**"
   ]
  },
  {
   "cell_type": "markdown",
   "id": "f54bd14f",
   "metadata": {
    "slideshow": {
     "slide_type": "slide"
    }
   },
   "source": [
    "### Summary\n",
    "\n",
    "Software tools for computer simulations:\n",
    "- Many languages\n",
    "- Varying popularity\n",
    "- Compiled / Interpreted\n",
    "- Why is Python popular?"
   ]
  },
  {
   "cell_type": "markdown",
   "id": "cce60b51",
   "metadata": {
    "slideshow": {
     "slide_type": "slide"
    }
   },
   "source": [
    "# 2. Python for Matlab users\n",
    "\n",
    "**Goal:** mini comparison between the two languages.\n",
    "\n",
    "**Why care?** You can claim some Python experience in a job interview.\n",
    "\n",
    "- Somewhat inspired by [A Python primer for Matlab users](https://bastibe.de/2013-01-20-a-python-primer-for-matlab-users.html)\n",
    "- See also [NumPy for MATLAB users](https://numpy.org/devdocs/user/numpy-for-matlab-users.html)"
   ]
  },
  {
   "cell_type": "markdown",
   "id": "464c57be-7fb5-417e-9f43-23bae88a15a7",
   "metadata": {
    "slideshow": {
     "slide_type": "slide"
    },
    "tags": []
   },
   "source": [
    "### Data types\n",
    "\n",
    "```octave\n",
    "% Matlab has flexible types.\n",
    "a = 'text';\n",
    "b = a + 5  % b =  [121 106 125 121]\n",
    "```"
   ]
  },
  {
   "cell_type": "code",
   "execution_count": null,
   "id": "d00940d5-26c3-4a4e-9bf1-60d63211ccdd",
   "metadata": {},
   "outputs": [],
   "source": [
    "# Python has dynamic strong types.\n",
    "a = \"text\"\n",
    "b = a + \"aaaa\"\n",
    "print(b)"
   ]
  },
  {
   "cell_type": "markdown",
   "id": "037134ae-318a-48d7-b01d-f47efa485a4d",
   "metadata": {
    "slideshow": {
     "slide_type": "slide"
    },
    "tags": []
   },
   "source": [
    "### No semicolons `;` in Python\n",
    "\n",
    "```octave\n",
    "% In Matlab, use semicolons to avoid unwanted output.\n",
    "a = 1.0;\n",
    "b = 3.0;\n",
    "c = a + b  % c =  4\n",
    "```"
   ]
  },
  {
   "cell_type": "code",
   "execution_count": null,
   "id": "e9886eea-8cc2-46f3-aa19-df16379d3f2a",
   "metadata": {},
   "outputs": [],
   "source": [
    "# Use print to print something in Python.\n",
    "a = 1.0\n",
    "b = 3.0\n",
    "c = a + b\n",
    "print(c)"
   ]
  },
  {
   "cell_type": "markdown",
   "id": "1dab2ed6-7055-405a-bba4-04df1bcf051f",
   "metadata": {
    "slideshow": {
     "slide_type": "slide"
    },
    "tags": []
   },
   "source": [
    "### Python loops look very different\n",
    "\n",
    "- No `end` statement, indentation (4 spaces) instead.\n",
    "- `in` syntax.\n",
    "- Colon `:` at the end of the `for` line.\n",
    "- Counting by default from zero, end not included.\n",
    "- Not limited to integer sequences."
   ]
  },
  {
   "cell_type": "markdown",
   "id": "263f2ec2",
   "metadata": {
    "slideshow": {
     "slide_type": "subslide"
    }
   },
   "source": [
    "```octave\n",
    "% Matlab\n",
    "total = 0;\n",
    "for i = 0:9\n",
    "    total = total + i;\n",
    "end\n",
    "total  % total =  45\n",
    "```"
   ]
  },
  {
   "cell_type": "code",
   "execution_count": null,
   "id": "b4ceebb5-32dd-41ca-90a9-873fe7d08019",
   "metadata": {},
   "outputs": [],
   "source": [
    "# Python\n",
    "total = 0\n",
    "for i in range(10):\n",
    "    total += i\n",
    "print(total)"
   ]
  },
  {
   "cell_type": "code",
   "execution_count": null,
   "id": "5a5147cd-abd6-4e37-85f6-6b5c24b60909",
   "metadata": {
    "slideshow": {
     "slide_type": "subslide"
    }
   },
   "outputs": [],
   "source": [
    "for word in \"orange\":\n",
    "    print(word)"
   ]
  },
  {
   "cell_type": "markdown",
   "id": "20a02aa7-93c9-43e4-8f8e-fbc8a376e3d0",
   "metadata": {
    "slideshow": {
     "slide_type": "slide"
    },
    "tags": []
   },
   "source": [
    "### No built-in (useful) arrays in Python\n",
    "\n",
    "- More flexible *lists* are built-in.\n",
    "- Array computations with [NumPy](https://numpy.org/)\n",
    "\n",
    "```octave\n",
    "% A Matlab array (row vector)\n",
    "a = [1 2 3 4]\n",
    "```"
   ]
  },
  {
   "cell_type": "code",
   "execution_count": null,
   "id": "c06c0fc1-4d63-4a85-8d63-4fec33519592",
   "metadata": {},
   "outputs": [],
   "source": [
    "# A Python list\n",
    "a = [1, 2, 3, 4]\n",
    "print(a)"
   ]
  },
  {
   "cell_type": "code",
   "execution_count": null,
   "id": "cccfdc45-3c1e-4512-b983-645ffc00bbc0",
   "metadata": {
    "slideshow": {
     "slide_type": "subslide"
    }
   },
   "outputs": [],
   "source": [
    "# Lists can contain mixed types.\n",
    "b = [\"word\", 2.1, 10, [\"nested\", \"list\"]]\n",
    "# Lists can change length.\n",
    "b.append(\"new item\")\n",
    "# print(b)\n",
    "del b[1]\n",
    "print(b)"
   ]
  },
  {
   "cell_type": "code",
   "execution_count": null,
   "id": "2347400c-e08a-4d40-82d4-0e0312557812",
   "metadata": {
    "slideshow": {
     "slide_type": "subslide"
    }
   },
   "outputs": [],
   "source": [
    "# An array can be created with NumPy.\n",
    "import numpy as np\n",
    "\n",
    "a = np.array([1, 2, 3, 4])\n",
    "print(a)"
   ]
  },
  {
   "cell_type": "code",
   "execution_count": null,
   "id": "8bb60dbe-2749-498c-80f7-7daadf09942d",
   "metadata": {},
   "outputs": [],
   "source": [
    "# Shortcut for an array with increasing integers\n",
    "print(np.arange(4))"
   ]
  },
  {
   "cell_type": "markdown",
   "id": "d2b07512",
   "metadata": {
    "slideshow": {
     "slide_type": "slide"
    }
   },
   "source": [
    "### Mathematical functions in NumPy\n",
    "\n",
    "- Python's built-in `math` module is limited in functionality.\n",
    "- [NumPy](https://numpy.org) has many more mathematical functions and constants."
   ]
  },
  {
   "cell_type": "code",
   "execution_count": null,
   "id": "ba79e7ce",
   "metadata": {},
   "outputs": [],
   "source": [
    "import numpy as np\n",
    "\n",
    "# Angles are always in radians, not degrees:\n",
    "print(np.cos(0))\n",
    "print(np.cos(np.pi / 6))\n",
    "print(np.sqrt(3) / 2)\n",
    "print(3**0.5 / 2)"
   ]
  },
  {
   "cell_type": "markdown",
   "id": "cc8411bd-7086-48c1-92b7-f48f13704d8e",
   "metadata": {
    "slideshow": {
     "slide_type": "slide"
    },
    "tags": []
   },
   "source": [
    "### Indexing arrays (lists, ...) works differently in Python\n",
    "\n",
    "- Square brackets for indexing.\n",
    "- Indexes start counting from zero: `a[0]` is the first element.\n",
    "- Negative indexes take elements in reverse: `a[-1]` is the last element.\n",
    "\n",
    "```octave\n",
    "% Access the first or last element in Matlab\n",
    "a = [2 4 6 8];\n",
    "a(1)  % ans =  2\n",
    "a(4)  % ans =  8\n",
    "```"
   ]
  },
  {
   "cell_type": "code",
   "execution_count": null,
   "id": "399a9437-5cda-4330-a2c7-a7b624ea546d",
   "metadata": {},
   "outputs": [],
   "source": [
    "# Access the first or last element in Python\n",
    "a = np.array([2, 4, 6, 8])\n",
    "print(a[0], a[3], a[-1])"
   ]
  },
  {
   "cell_type": "markdown",
   "id": "c1a9d297",
   "metadata": {
    "slideshow": {
     "slide_type": "slide"
    }
   },
   "source": [
    "### Functions have a different syntax in Python\n",
    "\n",
    "- Again, no `end` in Python\n",
    "- A colon on each line before indentation.\n",
    "- `return` statement to return a value.\n",
    "\n",
    "```octave\n",
    "% Matlab\n",
    "function [out] = absolute(number)\n",
    "    if number > 0\n",
    "        out = number\n",
    "    else\n",
    "        out = -number\n",
    "    end\n",
    "end\n",
    "```"
   ]
  },
  {
   "cell_type": "code",
   "execution_count": null,
   "id": "70c98150",
   "metadata": {
    "slideshow": {
     "slide_type": "subslide"
    }
   },
   "outputs": [],
   "source": [
    "# Python\n",
    "def absolute(number):\n",
    "    if number > 0:\n",
    "        return number\n",
    "    else:\n",
    "        return -number\n",
    "\n",
    "\n",
    "absolute(-5)"
   ]
  },
  {
   "cell_type": "markdown",
   "id": "2c5742e0-5b78-4acb-ad3c-cc4fe32874fb",
   "metadata": {
    "slideshow": {
     "slide_type": "slide"
    },
    "tags": []
   },
   "source": [
    "### In many ways, Python is more flexible.\n",
    "\n",
    "Example: `dict` and `set` types"
   ]
  },
  {
   "cell_type": "code",
   "execution_count": null,
   "id": "33ab7c2c-879b-4346-96a9-6f4b12713591",
   "metadata": {},
   "outputs": [],
   "source": [
    "# dict (dictionary) example\n",
    "d = {\"apple\": 1, \"egg\": 20, 120: \"bacon\"}\n",
    "# print(d[\"apple\"])\n",
    "# d[\"orange\"] = 5\n",
    "d[5] = [\"orange\", \"banana\"]\n",
    "print(d)"
   ]
  },
  {
   "cell_type": "code",
   "execution_count": null,
   "id": "e05177e8-e446-43c6-b99f-ffc65d9d6bf9",
   "metadata": {
    "slideshow": {
     "slide_type": "subslide"
    }
   },
   "outputs": [],
   "source": [
    "# set example\n",
    "s1 = {4, 5, \"eagle\", 1}\n",
    "s2 = {1, 2, \"eagle\", 7}\n",
    "print(\"union\", s1 | s2)\n",
    "print(\"intersection\", s1 & s2)"
   ]
  },
  {
   "cell_type": "markdown",
   "id": "13029bbf-75e4-4197-a6c4-e03fff5efb5d",
   "metadata": {
    "slideshow": {
     "slide_type": "slide"
    }
   },
   "source": [
    "### Computational libraries are not built-in to Python\n",
    "\n",
    "A few popular open source tools for computational science in Python:\n",
    "\n",
    "- Arrays and numerical algorithms: [NumPy](https://numpy.org/)\n",
    "- More numerical algorithms: [SciPy](https://scipy.org/)\n",
    "- Plotting: [Matplotlib](https://matplotlib.org/) and others, such as [Bokeh](https://bokeh.org/), [Plotly](https://plotly.com/python/), [Seaborn](https://seaborn.pydata.org/), ...\n",
    "- Symbolic math: [SymPy](https://www.sympy.org/)\n",
    "- Basic machine learning: [scikit-learn](https://scikit-learn.org/stable/index.html)\n",
    "- More machine learning: [Tensorflow](https://www.tensorflow.org/), [Kerras](https://keras.io/), [PyTorch](https://pytorch.org/), [xgboost](https://xgboost.ai/), [Jax](https://jax.readthedocs.io/) ...\n",
    "- Data science: [Pandas](https://pandas.pydata.org/), the built-in [SQLite](https://docs.python.org/3/library/sqlite3.html), many others ...\n",
    "- Image manipulation: [Pillow](https://python-pillow.org/), [scikit-image](https://scikit-image.org/)\n",
    "- Graph algorithms: [NetworkX](https://networkx.org/)\n",
    "- Finite elements: [SfePy](https://sfepy.org/)\n",
    "- Multi (arbitrary) precision: [MPMath](https://mpmath.org/)\n",
    "- Units: [Pint](https://pint.readthedocs.io/)\n",
    "- Many discipline specific tools, e.g. for Quantum computing: [CirQ](https://github.com/quantumlib/Cirq), Molecular Dynamics [OpenMM](https://openmm.org/), Computational Molecular Biology [BioPython](https://biopython.org/), Affine invariant Monte Carlo [emcee](https://emcee.readthedocs.io), Geo sciences [Spatial analysis](https://github.com/pysal/pysal), Astronomy [AtroPy](https://www.astropy.org/) ...\n",
    "- Notebooks: [Jupyter](https://jupyter.org/), also try [Google Colab](https://colab.research.google.com/) (free GPU access)\n",
    "- Unit testing: [Pytest](https://docs.pytest.org/)\n",
    "- Cleaning and checking code: [Black](https://black.readthedocs.io/) and [Pylint](https://pylint.org/)\n",
    "- ...\n",
    "\n",
    "Repository with most Python packages: https://pypi.org/ (> 400 000 packages)"
   ]
  },
  {
   "cell_type": "markdown",
   "id": "00745570-be86-4d8b-9f0e-0ccd41106271",
   "metadata": {
    "slideshow": {
     "slide_type": "slide"
    },
    "tags": []
   },
   "source": [
    "# 3. Numerical integration of Newton's second law\n",
    "\n",
    "- Here: one-dimensional particle. **State-of-the-art** simulations: $10^3 \\ldots 10^9$ 3D particles.\n",
    "\n",
    "- Here: 100 discrete time steps. **State-of-the-art** simulations: $10^6 \\ldots 10^{12}$ steps\n",
    "\n",
    "See e.g. https://ucsdnews.ucsd.edu/pressrelease/covid-gets-airborne\n",
    "\n",
    "![sars-cov2 viron](https://ucsdnews.ucsd.edu/news_uploads/11192020-amaro-molecule.jpg)"
   ]
  },
  {
   "cell_type": "markdown",
   "id": "6571f448-baab-4740-b19a-acf68af85b22",
   "metadata": {
    "slideshow": {
     "slide_type": "slide"
    },
    "tags": []
   },
   "source": [
    "### Discretization time axis (see W6.4)\n",
    "\n",
    "<img src=\"discretization_time_axis.png\" width=\"800\" />"
   ]
  },
  {
   "cell_type": "markdown",
   "id": "6af70b6e-fc19-46e4-96ae-7c3d0d894ef4",
   "metadata": {
    "slideshow": {
     "slide_type": "slide"
    },
    "tags": []
   },
   "source": [
    "### Euler integration\n",
    "\n",
    "**Given:** state at time step $i$: $y_i$ and $v_{y,i}$\n",
    "\n",
    "**Result:** state at time step $i+1$: $y_{i+1}$ and $v_{y,i+1}$\n",
    "\n",
    "\\begin{align}\n",
    "    y_{i+1} &\\approx y_i + h \\frac{\\mathrm{d}{y_i}}{\\mathrm{d}{t}} + \\mathcal{O}(h^2) \\\\\n",
    "            &\\approx y_i + h v_{y,i} + \\mathcal{O}(h^2) \\\\\n",
    "    v_{y,i+1} &\\approx v_{y,i} + h \\frac{\\mathrm{d}{v_{y,i}}}{\\mathrm{d}{t}} + \\mathcal{O}(h^2) \\\\\n",
    "              &\\approx v_{y,i} + h \\frac{F_y(y_i)}{m} + \\mathcal{O}(h^2)\n",
    "\\end{align}"
   ]
  },
  {
   "cell_type": "markdown",
   "id": "377abea3-05f7-4e94-ad94-5371c9be42cf",
   "metadata": {
    "slideshow": {
     "slide_type": "slide"
    },
    "tags": []
   },
   "source": [
    "### [Leapfrog](https://en.wikipedia.org/wiki/Leapfrog_integration) integration (specific for Newton's second law)\n",
    "\n",
    "**Given:** state at time step $i$: $y_i$ and $v_{y,i}$\n",
    "\n",
    "**Result:** state at time step $i+1$: $y_{i+1}$ and $v_{y,i+1}$\n",
    "\n",
    "\\begin{align}\n",
    "    v_{y,i+1/2} &\\approx v_{y,i} + \\frac{h}{2} \\frac{F_y(y_i)}{m} + \\mathcal{O}(h^2) \\\\\n",
    "    y_{i+1} &\\approx y_i + hv_{y,i+1/2} + \\mathcal{O}(h^3) \\\\\n",
    "    v_{y,i+1} &\\approx v_{y,i+1/2} + \\frac{h}{2} \\frac{F_y(y_{i+1})}{m} + \\mathcal{O}(h^2)\n",
    "\\end{align}"
   ]
  },
  {
   "cell_type": "markdown",
   "id": "1a969bdf-fcd6-4b1e-8333-990e61a8620d",
   "metadata": {
    "slideshow": {
     "slide_type": "slide"
    }
   },
   "source": [
    "# 4. Pendulum\n",
    "\n",
    "Numerical integration of a pendulum.\n",
    "In this demo, the pendulum only feels a gravitational force.\n",
    "\n",
    "For your task, you need to modify the physics (parameters, force and potential energy)."
   ]
  },
  {
   "cell_type": "code",
   "execution_count": null,
   "id": "9ee231fb-36a0-4fe9-a1de-f4cd52def83d",
   "metadata": {},
   "outputs": [],
   "source": [
    "# Make sure you import libraries first.\n",
    "%matplotlib inline\n",
    "import matplotlib.pyplot as plt\n",
    "import numpy as np"
   ]
  },
  {
   "cell_type": "markdown",
   "id": "473beebe",
   "metadata": {
    "slideshow": {
     "slide_type": "slide"
    }
   },
   "source": [
    "You can modify parameters in the following cell and add more when needed.\n",
    "\n",
    "All values are in [SI base units](https://en.wikipedia.org/wiki/SI_base_unit)."
   ]
  },
  {
   "cell_type": "code",
   "execution_count": null,
   "id": "a2a82a4b-e28a-4742-999e-33582f0a1e0e",
   "metadata": {
    "slideshow": {
     "slide_type": "-"
    }
   },
   "outputs": [],
   "source": [
    "# You will need to change some and add more.\n",
    "STD_GRAVITY = 9.80665\n",
    "COULOMB_CONSTANT = 8.9875517923e9\n",
    "MASS = 0.0313\n",
    "LENGTH = 0.797\n",
    "MOMENT_OF_INERTIA = MASS * LENGTH**2\n",
    "TIMESTEP = 0.2523 / 25\n",
    "NSTEP = 300"
   ]
  },
  {
   "cell_type": "markdown",
   "id": "49d0b576",
   "metadata": {
    "slideshow": {
     "slide_type": "slide"
    }
   },
   "source": [
    "The following cell implements the torque function and the Leapfrog integrator.\n",
    "\n",
    "The last line calls the integrator function, computes the trajectory, and stores the results in two arrays: `thetas` and `omegas`."
   ]
  },
  {
   "cell_type": "code",
   "execution_count": null,
   "id": "09939be9",
   "metadata": {
    "slideshow": {
     "slide_type": "subslide"
    }
   },
   "outputs": [],
   "source": [
    "def torque_theta(theta):\n",
    "    result = -MASS * STD_GRAVITY * LENGTH * np.sin(theta)\n",
    "    # You can add more contributions to the torque with:\n",
    "    # result += ...\n",
    "    return result\n",
    "\n",
    "\n",
    "def integrate(nstep, theta, omega):\n",
    "    # Initialize arrays with the trajectory\n",
    "    # of theta and omega.\n",
    "    thetas = np.zeros(nstep + 1)\n",
    "    omegas = np.zeros(nstep + 1)\n",
    "    thetas[0] = theta\n",
    "    omegas[0] = omega\n",
    "\n",
    "    # ang_accel is the angular acceleration,\n",
    "    # i.e. time direvative of omega.\n",
    "    ang_accel = torque_theta(theta) / MOMENT_OF_INERTIA\n",
    "    for istep in range(1, nstep + 1):\n",
    "        # Leapfrog algorithm for a single step.\n",
    "        # The suffixes mean the following:\n",
    "        # _half: value half a time step further.\n",
    "        # _next: value at the next time step.\n",
    "        omega_half = omega + TIMESTEP * ang_accel / 2\n",
    "        theta_next = theta + TIMESTEP * omega_half\n",
    "        ang_accel_next = torque_theta(theta_next) / MOMENT_OF_INERTIA\n",
    "        omega_next = omega_half + TIMESTEP * ang_accel_next / 2\n",
    "\n",
    "        # Store results.\n",
    "        thetas[istep] = theta_next\n",
    "        omegas[istep] = omega_next\n",
    "\n",
    "        # Move \"next\" results to current.\n",
    "        theta = theta_next\n",
    "        omega = omega_next\n",
    "        ang_accel = ang_accel_next\n",
    "\n",
    "    # Return the arrays.\n",
    "    return thetas, omegas\n",
    "\n",
    "\n",
    "thetas, omegas = integrate(NSTEP, np.pi / 2, 0.0)"
   ]
  },
  {
   "cell_type": "markdown",
   "id": "1d5ae065",
   "metadata": {
    "slideshow": {
     "slide_type": "slide"
    }
   },
   "source": [
    "The following cell implements functions for potential and kinetic energies.\n",
    "It also makes a plot of $\\theta$, $\\omega$ and the energies as function of time.\n",
    "\n",
    "When you modify the `torque_theta` function,\n",
    "corresponding changes are needed in the `potential_energy` function."
   ]
  },
  {
   "cell_type": "code",
   "execution_count": null,
   "id": "83258c08-6348-4953-91ae-cb8b82842422",
   "metadata": {
    "slideshow": {
     "slide_type": "subslide"
    }
   },
   "outputs": [],
   "source": [
    "def potential_energy(theta):\n",
    "    result = MASS * STD_GRAVITY * LENGTH * (1 - np.cos(theta))\n",
    "    # You can add more contributions with:\n",
    "    # result += ...\n",
    "    return result\n",
    "\n",
    "\n",
    "def kinetic_energy(omega):\n",
    "    return MOMENT_OF_INERTIA * omega**2 / 2\n",
    "\n",
    "\n",
    "def plot_all(thetas, omegas):\n",
    "    ts = np.arange(len(thetas)) * TIMESTEP\n",
    "\n",
    "    def plot_theta(ax):\n",
    "        ax.plot(ts, thetas)\n",
    "        ax.set_xlabel(\"time $t$ [s]\")\n",
    "        ax.set_ylabel(r\"Angle $\\theta$ [rad]\")\n",
    "        ax.set_yticks([-np.pi, -np.pi / 2, 0, np.pi / 2, np.pi])\n",
    "        ax.set_yticklabels([r\"$-\\pi$\", r\"$-\\pi/2$\", \"0\", r\"$\\pi/2$\", r\"$\\pi$\"])\n",
    "\n",
    "    def plot_omega(ax):\n",
    "        ax.plot(ts, omegas)\n",
    "        ax.set_xlabel(\"time $t$ [s]\")\n",
    "        ax.set_ylabel(r\"Angular velocity $\\omega$ [rad/s]\")\n",
    "\n",
    "    def plot_energy(ax):\n",
    "        eps = potential_energy(thetas)\n",
    "        eks = kinetic_energy(omegas)\n",
    "        ax.plot(ts, eps, \"C0-\", label=r\"$E_\\mathrm{pot}$\")\n",
    "        ax.plot(ts, eks, \"C1-\", label=r\"$E_\\mathrm{kin}$\")\n",
    "        ax.plot(ts, eks + eps, \"k-\", label=r\"$E_\\mathrm{total}$\")\n",
    "        ax.legend(loc=0)\n",
    "        ax.set_xlabel(\"time $t$ [s]\")\n",
    "        ax.set_ylabel(\"energy [J]\")\n",
    "\n",
    "    plt.close(\"posvelener\")\n",
    "    fig, axs = plt.subplots(1, 3, figsize=(12, 4), num=\"posvelener\")\n",
    "    plot_theta(axs[0])\n",
    "    plot_omega(axs[1])\n",
    "    plot_energy(axs[2])\n",
    "    fig.tight_layout()\n",
    "    plt.show()\n",
    "\n",
    "\n",
    "plot_all(thetas, omegas)"
   ]
  },
  {
   "cell_type": "markdown",
   "id": "b7cd903a",
   "metadata": {
    "slideshow": {
     "slide_type": "slide"
    }
   },
   "source": [
    "The remaining cells can be executed without any modifications."
   ]
  },
  {
   "cell_type": "code",
   "execution_count": null,
   "id": "e184b8d2-e28f-4a1b-aade-a2ada246e352",
   "metadata": {
    "slideshow": {
     "slide_type": "subslide"
    }
   },
   "outputs": [],
   "source": [
    "def plot_omega_theta():\n",
    "    plt.close(\"omega_theta\")\n",
    "    fig, ax = plt.subplots(figsize=(8, 5), num=\"omega_theta\")\n",
    "    ax.plot(thetas, omegas)\n",
    "    ax.set_xlabel(r\"Angle $\\theta$ [rad]\")\n",
    "    ax.set_ylabel(r\"Angular velocity $\\omega$ [rad/s]\")\n",
    "    fig.tight_layout()\n",
    "    plt.show()\n",
    "\n",
    "\n",
    "plot_omega_theta()"
   ]
  },
  {
   "cell_type": "code",
   "execution_count": null,
   "id": "76d4d9c5-6e90-49b4-b37b-a0744b5c4589",
   "metadata": {
    "slideshow": {
     "slide_type": "subslide"
    }
   },
   "outputs": [],
   "source": [
    "def range_with_margin(values, fraction=0.15):\n",
    "    low = values.min()\n",
    "    high = values.max()\n",
    "    margin = (high - low) * fraction\n",
    "    return low - margin, high + margin\n",
    "\n",
    "\n",
    "def plot_contour_energy():\n",
    "    theta_grid, omega_grid = np.meshgrid(\n",
    "        np.linspace(*range_with_margin(thetas), 101),\n",
    "        np.linspace(*range_with_margin(omegas), 51),\n",
    "    )\n",
    "    energy_grid = kinetic_energy(omega_grid) + potential_energy(theta_grid)\n",
    "    plt.close(\"contour\")\n",
    "    fig, ax = plt.subplots(figsize=(8, 5), num=\"contour\")\n",
    "    con = plt.contour(theta_grid, omega_grid, energy_grid, 40, cmap=\"hot\")\n",
    "    ax.set_xlabel(r\"Angle $\\theta$ [rad]\")\n",
    "    ax.set_ylabel(r\"Angular velocity $\\omega$ [rad/s]\")\n",
    "    fig.colorbar(con, label=\"Total energy [joule]\")\n",
    "    fig.tight_layout()\n",
    "    plt.show()\n",
    "\n",
    "\n",
    "plot_contour_energy()"
   ]
  }
 ],
 "metadata": {
  "kernelspec": {
   "display_name": "Python 3 (ipykernel)",
   "language": "python",
   "name": "python3"
  },
  "language_info": {
   "codemirror_mode": {
    "name": "ipython",
    "version": 3
   },
   "file_extension": ".py",
   "mimetype": "text/x-python",
   "name": "python",
   "nbconvert_exporter": "python",
   "pygments_lexer": "ipython3"
  },
  "toc": {
   "base_numbering": 1,
   "nav_menu": {},
   "number_sections": true,
   "sideBar": true,
   "skip_h1_title": false,
   "title_cell": "Table of Contents",
   "title_sidebar": "Contents",
   "toc_cell": false,
   "toc_position": {},
   "toc_section_display": true,
   "toc_window_display": false
  }
 },
 "nbformat": 4,
 "nbformat_minor": 5
}
